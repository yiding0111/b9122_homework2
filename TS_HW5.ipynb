{
  "cells": [
    {
      "cell_type": "markdown",
      "metadata": {
        "id": "view-in-github",
        "colab_type": "text"
      },
      "source": [
        "<a href=\"https://colab.research.google.com/github/yiding0111/b9122_homework2/blob/main/TS_HW5.ipynb\" target=\"_parent\"><img src=\"https://colab.research.google.com/assets/colab-badge.svg\" alt=\"Open In Colab\"/></a>"
      ]
    },
    {
      "cell_type": "markdown",
      "id": "022c4b95",
      "metadata": {
        "id": "022c4b95"
      },
      "source": [
        "## Q2"
      ]
    },
    {
      "cell_type": "markdown",
      "id": "676c2dd0",
      "metadata": {
        "id": "676c2dd0"
      },
      "source": [
        "### (1)"
      ]
    },
    {
      "cell_type": "markdown",
      "id": "043803bc",
      "metadata": {
        "id": "043803bc"
      },
      "source": [
        "\\begin{aligned}\n",
        "& \\text{Given the regression equation:} \\\\\n",
        "& 12r_{t+1} = \\alpha + \\beta dy_t + e_{t+1} \\\\\n",
        "& \\\\\n",
        "& \\text{Objective: Minimize the sum of squared residuals to find } \\hat{\\beta}: \\\\\n",
        "& \\min_{\\alpha, \\beta} \\sum_{t=1}^{T}\\left(12r_{t+1} - \\alpha - \\beta dy_t\\right)^2 \\\\\n",
        "& \\\\\n",
        "& \\text{First Order Condition (FOC) for } \\beta: \\\\\n",
        "& \\frac{\\partial}{\\partial \\beta} \\sum_{t=1}^{T}\\left(12r_{t+1} - \\alpha - \\beta dy_t\\right)^2 = 0 \\\\\n",
        "& 2 \\sum_{t=1}^{T} \\left(12r_{t+1} - \\alpha - \\beta dy_t\\right)(-dy_t) = 0 \\\\\n",
        "& \\\\\n",
        "& \\text{Solving for } \\hat{\\beta}: \\\\\n",
        "& \\hat{\\beta} = \\frac{\\sum_{t=1}^{T} (12r_{t+1} dy_t) - \\alpha \\sum_{t=1}^{T} dy_t}{\\sum_{t=1}^{T} (dy_t)^2} \\\\\n",
        "& \\\\\n",
        "& \\text{Considering } e_{t+1} = 12r_{t+1} - \\alpha - \\beta dy_t, \\text{ the expression for } \\hat{\\beta} \\text{ becomes}: \\\\\n",
        "& \\hat{\\beta} = \\frac{\\sum_{t=1}^{T} (\\alpha + \\beta dy_t + e_{t+1}) dy_t - \\alpha \\sum_{t=1}^{T} dy_t}{\\sum_{t=1}^{T} (dy_t)^2} \\\\\n",
        "& = \\frac{\\alpha \\sum_{t=1}^{T} dy_t + \\beta \\sum_{t=1}^{T} (dy_t)^2 + \\sum_{t=1}^{T} e_{t+1} dy_t - \\alpha \\sum_{t=1}^{T} dy_t}{\\sum_{t=1}^{T} (dy_t)^2} \\\\\n",
        "& = \\beta + \\frac{\\sum_{t=1}^{T} e_{t+1} dy_t}{\\sum_{t=1}^{T} (dy_t)^2} \\\\\n",
        "& \\\\\n",
        "& \\text{Bias Assessment:} \\\\\n",
        "& \\text{If } E[e_{t+1} dy_t] \\neq 0, \\text{ then } \\hat{\\beta} \\text{ is biased.} \\\\\n",
        "& \\text{Bias}(\\hat{\\beta}) = \\frac{E[\\sum_{t=1}^{T} e_{t+1} dy_t]}{\\sum_{t=1}^{T} (dy_t)^2}. \\\\\n",
        "& \\\\\n",
        "& \\text{Conclusion:} \\\\\n",
        "& \\text{The OLS estimator } \\hat{\\beta} \\text{ can be biased if } E[e_{t+1} dy_t] \\neq 0, \\text{ indicating correlation between } e_{t+1} \\text{ and } dy_t.\n",
        "\\end{aligned}"
      ]
    },
    {
      "cell_type": "markdown",
      "id": "51b46f63",
      "metadata": {
        "id": "51b46f63"
      },
      "source": [
        "### (2)"
      ]
    },
    {
      "cell_type": "code",
      "execution_count": null,
      "id": "47905ac6",
      "metadata": {
        "id": "47905ac6"
      },
      "outputs": [],
      "source": [
        "import pandas as pd\n",
        "from statsmodels.tsa.api import VAR\n",
        "import numpy as np\n",
        "from numpy.linalg import inv\n",
        "import warnings\n",
        "warnings.filterwarnings(\"ignore\")\n",
        "from statsmodels.tsa.ar_model import AutoReg\n",
        "import statsmodels.api as sm\n",
        "import matplotlib.pyplot as plt"
      ]
    },
    {
      "cell_type": "code",
      "execution_count": null,
      "id": "8cded252",
      "metadata": {
        "id": "8cded252",
        "outputId": "fedfaaa0-0bf6-4153-f982-71eb04fe67f5"
      },
      "outputs": [
        {
          "name": "stdout",
          "output_type": "stream",
          "text": [
            "BIC for different lag orders: {1: -20.82301301154453, 2: -20.786216200569513, 3: -20.7508010941584}\n",
            "Optimal lag order based on BIC: 1\n",
            "  Summary of Regression Results   \n",
            "==================================\n",
            "Model:                         VAR\n",
            "Method:                        OLS\n",
            "Date:           Tue, 05, Mar, 2024\n",
            "Time:                     00:45:05\n",
            "--------------------------------------------------------------------\n",
            "No. of Equations:         2.00000    BIC:                   -20.8230\n",
            "Nobs:                     718.000    HQIC:                  -20.8465\n",
            "Log likelihood:           5457.60    FPE:                8.71107e-10\n",
            "AIC:                     -20.8613    Det(Omega_mle):     8.63873e-10\n",
            "--------------------------------------------------------------------\n",
            "Results for equation log_excess_ret\n",
            "====================================================================================\n",
            "                       coefficient       std. error           t-stat            prob\n",
            "------------------------------------------------------------------------------------\n",
            "const                    -0.003126         0.004985           -0.627           0.531\n",
            "L1.log_excess_ret         0.084747         0.037289            2.273           0.023\n",
            "L1.div_yld                0.246994         0.165364            1.494           0.135\n",
            "====================================================================================\n",
            "\n",
            "Results for equation div_yld\n",
            "====================================================================================\n",
            "                       coefficient       std. error           t-stat            prob\n",
            "------------------------------------------------------------------------------------\n",
            "const                     0.000336         0.000168            2.001           0.045\n",
            "L1.log_excess_ret        -0.003143         0.001258           -2.499           0.012\n",
            "L1.div_yld                0.987960         0.005578          177.128           0.000\n",
            "====================================================================================\n",
            "\n",
            "Correlation matrix of residuals\n",
            "                  log_excess_ret   div_yld\n",
            "log_excess_ret          1.000000 -0.891058\n",
            "div_yld                -0.891058  1.000000\n",
            "\n",
            "\n",
            "\n"
          ]
        }
      ],
      "source": [
        "data = pd.read_csv('homework3data.csv')\n",
        "\n",
        "# Create a new column for the shifted log excess return to represent t+1\n",
        "data['log_excess_ret_t+1'] = data['log_excess_ret'].shift(-1)\n",
        "\n",
        "data.dropna(inplace=True)\n",
        "\n",
        "var_df = data[['log_excess_ret', 'div_yld']]\n",
        "\n",
        "bic_scores = {}\n",
        "\n",
        "# Fit VAR models for lag orders from 1 to 3 and calculate BIC for each\n",
        "for lag_order in range(1, 4):\n",
        "    model = VAR(var_df)\n",
        "    result = model.fit(lag_order)\n",
        "    bic_scores[lag_order] = result.bic\n",
        "\n",
        "# Determine the optimal lag order with the lowest BIC\n",
        "best_lag = min(bic_scores, key=bic_scores.get)\n",
        "\n",
        "# Refit VAR model using the optimal lag order\n",
        "optimal_model = VAR(var_df).fit(best_lag)\n",
        "\n",
        "print(f\"BIC for different lag orders: {bic_scores}\")\n",
        "print(f\"Optimal lag order based on BIC: {best_lag}\")\n",
        "\n",
        "print(optimal_model.summary())"
      ]
    },
    {
      "cell_type": "code",
      "execution_count": null,
      "id": "be41d69b",
      "metadata": {
        "id": "be41d69b",
        "outputId": "ab399958-85a0-4145-a514-3d3ae9d08df6"
      },
      "outputs": [
        {
          "name": "stdout",
          "output_type": "stream",
          "text": [
            "Intercept Vector (Constants):\n",
            " [[-0.00312558]\n",
            " [ 0.00033642]]\n",
            "\n",
            "Coefficient Matrix (after transposing):\n",
            " [[ 0.08474723  0.24699369]\n",
            " [-0.00314316  0.9879602 ]]\n",
            "\n",
            "Residual Covariance Matrix:\n",
            " [[ 1.91983912e-03 -5.77006310e-05]\n",
            " [-5.77006310e-05  2.18415991e-06]]\n"
          ]
        }
      ],
      "source": [
        "parameters = optimal_model.params\n",
        "\n",
        "intercepts = parameters.iloc[0]  # First row for intercepts\n",
        "coefficients = parameters.iloc[1:]  # Remaining rows for coefficients\n",
        "\n",
        "residual_covariance = optimal_model.sigma_u\n",
        "\n",
        "intercepts_np = intercepts.values.reshape(-1, 1)  # Reshape for consistency as a column vector\n",
        "coefficients_np = coefficients.values  # 2D array for coefficients\n",
        "residual_covariance_np = residual_covariance.values  # 2D array for the covariance matrix\n",
        "\n",
        "coefficients_np_transposed = coefficients_np.T\n",
        "\n",
        "print(\"Intercept Vector (Constants):\\n\", intercepts_np)\n",
        "print(\"\\nCoefficient Matrix (after transposing):\\n\", coefficients_np_transposed)\n",
        "print(\"\\nResidual Covariance Matrix:\\n\", residual_covariance_np)"
      ]
    },
    {
      "cell_type": "markdown",
      "id": "5ce7f03a",
      "metadata": {
        "id": "5ce7f03a"
      },
      "source": [
        "### (3)"
      ]
    },
    {
      "cell_type": "code",
      "execution_count": null,
      "id": "760ddb0d",
      "metadata": {
        "id": "760ddb0d"
      },
      "outputs": [],
      "source": [
        "def compute_beta_OLS(phi_11, phi_12, phi_21, phi_22, var1, cov12, var2):\n",
        "    # Construct the coefficient matrix and residual covariance matrix\n",
        "    coefficients = np.array([[phi_11, phi_12], [phi_21, phi_22]])\n",
        "    residuals_covariance = np.array([[var1, cov12], [cov12, var2]])\n",
        "    # Calculate the Sigma0 and Sigma1 matrices for the long-run variance-covariance matrix\n",
        "    vec_sigma0 = inv(np.eye(4) - np.kron(coefficients, coefficients)) @ residuals_covariance.flatten()\n",
        "    sigma0_matrix = vec_sigma0.reshape(2, 2)\n",
        "    sigma1_matrix = coefficients @ sigma0_matrix\n",
        "    # Compute the OLS beta based on the Sigma matrices\n",
        "    ols_beta = 12 * sigma1_matrix[0, 1] / sigma0_matrix[1, 1]\n",
        "    return ols_beta\n",
        "\n",
        "def calculate_gradient(beta_calc_function, parameters, epsilon=1e-5):\n",
        "    # Initialize a gradient vector with zeros\n",
        "    gradient_vector = np.zeros(len(parameters))\n",
        "    # Compute the original beta value\n",
        "    original_beta_value = beta_calc_function(*parameters)\n",
        "\n",
        "    # Iterate through each parameter to calculate the gradient\n",
        "    for index in range(len(parameters)):\n",
        "        # Create a copy of parameters and perturb the current parameter by a small epsilon\n",
        "        perturbed_parameters = np.array(parameters, copy=True)\n",
        "        perturbed_parameters[index] += epsilon\n",
        "        # Calculate the beta value with the perturbed parameter\n",
        "        perturbed_beta_value = beta_calc_function(*perturbed_parameters)\n",
        "        # Compute the gradient for this parameter\n",
        "        gradient_vector[index] = (perturbed_beta_value - original_beta_value) / epsilon\n",
        "\n",
        "    return gradient_vector.tolist()"
      ]
    },
    {
      "cell_type": "code",
      "execution_count": null,
      "id": "40a5cb8c",
      "metadata": {
        "id": "40a5cb8c",
        "outputId": "20faad72-4107-4829-b113-45a65b2b5847"
      },
      "outputs": [
        {
          "name": "stdout",
          "output_type": "stream",
          "text": [
            "OLS beta: -0.04556460326984141\n",
            "Calculated Gradient: [0.00000000e+00 0.00000000e+00 3.31771746e-02 1.31835093e+01\n",
            " 8.06543453e-02 3.34830465e-01 8.21908693e+00 2.64098559e+02\n",
            " 3.63942666e+01]\n"
          ]
        }
      ],
      "source": [
        "# Extract coefficients and residual matrix values from the VAR model\n",
        "phi_11_value = float(coefficients_np[0, 0])\n",
        "phi_12_value = float(coefficients_np[0, 1])\n",
        "phi_21_value = float(coefficients_np[1, 0])\n",
        "phi_22_value = float(coefficients_np[1, 1])\n",
        "residual_variance_1 = float(residual_covariance_np[0, 0])\n",
        "residual_covariance = float(residual_covariance_np[1, 0])\n",
        "residual_variance_2 = float(residual_covariance_np[1, 1])\n",
        "\n",
        "# Calculate the OLS beta using the updated function\n",
        "ols_beta_Q1 = compute_beta_OLS(phi_11_value, phi_12_value, phi_21_value, phi_22_value, residual_variance_1, residual_covariance, residual_variance_2)\n",
        "print(\"OLS beta:\", ols_beta_Q1)\n",
        "\n",
        "parameters = [phi_11_value, phi_12_value, phi_21_value, phi_22_value, residual_variance_1, residual_covariance, residual_variance_2]\n",
        "\n",
        "# Calculate the gradient of the OLS beta using the delta method\n",
        "gradient = calculate_gradient(compute_beta_OLS, parameters)\n",
        "# Prepend zeros for constant terms which are irrelevant to the OLS beta calculation\n",
        "gradient_with_constants = np.array([0, 0] + gradient)\n",
        "\n",
        "print(\"Calculated Gradient:\", gradient_with_constants)"
      ]
    },
    {
      "cell_type": "code",
      "execution_count": null,
      "id": "eadf681f",
      "metadata": {
        "id": "eadf681f",
        "outputId": "c7409f5f-d85a-4be0-d188-56d1d8c3bdb8"
      },
      "outputs": [
        {
          "name": "stdout",
          "output_type": "stream",
          "text": [
            "                                  const_log_excess_ret  const_div_yld  \\\n",
            "const_log_excess_ret                      2.484826e-05  -7.468128e-07   \n",
            "const_div_yld                            -7.468128e-07   2.826934e-08   \n",
            "L1.log_excess_ret_log_excess_ret         -2.057001e-05   6.182303e-07   \n",
            "L1.log_excess_ret_div_yld                 6.182303e-07  -2.340206e-08   \n",
            "L1.div_yld_log_excess_ret                -7.782921e-04   2.339151e-05   \n",
            "L1.div_yld_div_yld                        2.339151e-05  -8.854463e-07   \n",
            "\n",
            "                                  L1.log_excess_ret_log_excess_ret  \\\n",
            "const_log_excess_ret                                 -2.057001e-05   \n",
            "const_div_yld                                         6.182303e-07   \n",
            "L1.log_excess_ret_log_excess_ret                      1.390438e-03   \n",
            "L1.log_excess_ret_div_yld                            -4.178953e-05   \n",
            "L1.div_yld_log_excess_ret                             5.247209e-04   \n",
            "L1.div_yld_div_yld                                   -1.577045e-05   \n",
            "\n",
            "                                  L1.log_excess_ret_div_yld  \\\n",
            "const_log_excess_ret                           6.182303e-07   \n",
            "const_div_yld                                 -2.340206e-08   \n",
            "L1.log_excess_ret_log_excess_ret              -4.178953e-05   \n",
            "L1.log_excess_ret_div_yld                      1.581872e-06   \n",
            "L1.div_yld_log_excess_ret                     -1.577045e-05   \n",
            "L1.div_yld_div_yld                             5.969638e-07   \n",
            "\n",
            "                                  L1.div_yld_log_excess_ret  \\\n",
            "const_log_excess_ret                              -0.000778   \n",
            "const_div_yld                                      0.000023   \n",
            "L1.log_excess_ret_log_excess_ret                   0.000525   \n",
            "L1.log_excess_ret_div_yld                         -0.000016   \n",
            "L1.div_yld_log_excess_ret                          0.027345   \n",
            "L1.div_yld_div_yld                                -0.000822   \n",
            "\n",
            "                                  L1.div_yld_div_yld  \n",
            "const_log_excess_ret                    2.339151e-05  \n",
            "const_div_yld                          -8.854463e-07  \n",
            "L1.log_excess_ret_log_excess_ret       -1.577045e-05  \n",
            "L1.log_excess_ret_div_yld               5.969638e-07  \n",
            "L1.div_yld_log_excess_ret              -8.218642e-04  \n",
            "L1.div_yld_div_yld                      3.111028e-05  \n",
            "                                  const_log_excess_ret  const_div_yld  \\\n",
            "const_log_excess_ret                      2.484826e-05  -7.468128e-07   \n",
            "const_div_yld                            -7.468128e-07   2.826934e-08   \n",
            "L1.log_excess_ret_log_excess_ret         -2.057001e-05   6.182303e-07   \n",
            "L1.log_excess_ret_div_yld                 6.182303e-07  -2.340206e-08   \n",
            "L1.div_yld_log_excess_ret                -7.782921e-04   2.339151e-05   \n",
            "L1.div_yld_div_yld                        2.339151e-05  -8.854463e-07   \n",
            "res_var1                                  0.000000e+00   0.000000e+00   \n",
            "res_cov                                   0.000000e+00   0.000000e+00   \n",
            "res_var2                                  0.000000e+00   0.000000e+00   \n",
            "\n",
            "                                  L1.log_excess_ret_log_excess_ret  \\\n",
            "const_log_excess_ret                                 -2.057001e-05   \n",
            "const_div_yld                                         6.182303e-07   \n",
            "L1.log_excess_ret_log_excess_ret                      1.390438e-03   \n",
            "L1.log_excess_ret_div_yld                            -4.178953e-05   \n",
            "L1.div_yld_log_excess_ret                             5.247209e-04   \n",
            "L1.div_yld_div_yld                                   -1.577045e-05   \n",
            "res_var1                                              0.000000e+00   \n",
            "res_cov                                               0.000000e+00   \n",
            "res_var2                                              0.000000e+00   \n",
            "\n",
            "                                  L1.log_excess_ret_div_yld  \\\n",
            "const_log_excess_ret                           6.182303e-07   \n",
            "const_div_yld                                 -2.340206e-08   \n",
            "L1.log_excess_ret_log_excess_ret              -4.178953e-05   \n",
            "L1.log_excess_ret_div_yld                      1.581872e-06   \n",
            "L1.div_yld_log_excess_ret                     -1.577045e-05   \n",
            "L1.div_yld_div_yld                             5.969638e-07   \n",
            "res_var1                                       0.000000e+00   \n",
            "res_cov                                        0.000000e+00   \n",
            "res_var2                                       0.000000e+00   \n",
            "\n",
            "                                  L1.div_yld_log_excess_ret  \\\n",
            "const_log_excess_ret                              -0.000778   \n",
            "const_div_yld                                      0.000023   \n",
            "L1.log_excess_ret_log_excess_ret                   0.000525   \n",
            "L1.log_excess_ret_div_yld                         -0.000016   \n",
            "L1.div_yld_log_excess_ret                          0.027345   \n",
            "L1.div_yld_div_yld                                -0.000822   \n",
            "res_var1                                           0.000000   \n",
            "res_cov                                            0.000000   \n",
            "res_var2                                           0.000000   \n",
            "\n",
            "                                  L1.div_yld_div_yld      res_var1  \\\n",
            "const_log_excess_ret                    2.339151e-05  0.000000e+00   \n",
            "const_div_yld                          -8.854463e-07  0.000000e+00   \n",
            "L1.log_excess_ret_log_excess_ret       -1.577045e-05  0.000000e+00   \n",
            "L1.log_excess_ret_div_yld               5.969638e-07  0.000000e+00   \n",
            "L1.div_yld_log_excess_ret              -8.218642e-04  0.000000e+00   \n",
            "L1.div_yld_div_yld                      3.111028e-05  0.000000e+00   \n",
            "res_var1                                0.000000e+00  2.558593e-08   \n",
            "res_cov                                 0.000000e+00 -4.173419e-10   \n",
            "res_var2                                0.000000e+00  1.208755e-10   \n",
            "\n",
            "                                       res_cov      res_var2  \n",
            "const_log_excess_ret              0.000000e+00  0.000000e+00  \n",
            "const_div_yld                     0.000000e+00  0.000000e+00  \n",
            "L1.log_excess_ret_log_excess_ret  0.000000e+00  0.000000e+00  \n",
            "L1.log_excess_ret_div_yld         0.000000e+00  0.000000e+00  \n",
            "L1.div_yld_log_excess_ret         0.000000e+00  0.000000e+00  \n",
            "L1.div_yld_div_yld                0.000000e+00  0.000000e+00  \n",
            "res_var1                         -4.173419e-10  1.208755e-10  \n",
            "res_cov                           3.675433e-10 -1.605994e-11  \n",
            "res_var2                         -1.605994e-11  1.947840e-11  \n"
          ]
        }
      ],
      "source": [
        "variance_covariance_matrix = optimal_model.cov_params()\n",
        "\n",
        "simplified_row_indices = ['_'.join(map(str, index)) for index in variance_covariance_matrix.index.to_flat_index()]\n",
        "simplified_column_indices = ['_'.join(map(str, column)) for column in variance_covariance_matrix.columns.to_flat_index()]\n",
        "\n",
        "variance_covariance_matrix.index = simplified_row_indices\n",
        "variance_covariance_matrix.columns = simplified_column_indices\n",
        "\n",
        "simplified_var_cov_matrix = pd.DataFrame(variance_covariance_matrix)\n",
        "\n",
        "print(simplified_var_cov_matrix)\n",
        "\n",
        "# Extracting the variance-covariance matrix 'V' from the model results\n",
        "V = pd.DataFrame(optimal_model.cov_params())\n",
        "\n",
        "V.index = ['_'.join(map(str, idx)) for idx in V.index.to_flat_index()]\n",
        "V.columns = ['_'.join(map(str, col)) for col in V.columns.to_flat_index()]\n",
        "\n",
        "n_bootstraps = 2000\n",
        "bootstrap_estimates = []\n",
        "\n",
        "for _ in range(n_bootstraps):\n",
        "    bootstrap_sample = var_df.sample(n=len(var_df), replace=True)\n",
        "    # Fit the VAR model to the bootstrap sample with an assumed lag order of 1\n",
        "    bootstrap_results = VAR(bootstrap_sample).fit(1)\n",
        "    bootstrap_cov_matrix = np.cov(bootstrap_results.resid, rowvar=False)\n",
        "    bootstrap_estimates.append([bootstrap_cov_matrix[0, 0], bootstrap_cov_matrix[0, 1], bootstrap_cov_matrix[1, 1]])\n",
        "\n",
        "bootstrap_df = pd.DataFrame(bootstrap_estimates, columns=['Var1', 'Cov12', 'Var2'])\n",
        "# Calculating the covariance of bootstrap estimates\n",
        "covariance_of_residuals = np.cov(bootstrap_df.T)\n",
        "\n",
        "expanded_columns = V.columns.tolist() + ['res_var1', 'res_cov', 'res_var2']\n",
        "expanded_rows = V.index.tolist() + ['res_var1', 'res_cov', 'res_var2']\n",
        "expanded_V = pd.DataFrame(np.zeros((9, 9)), columns=expanded_columns, index=expanded_rows)\n",
        "\n",
        "expanded_V.iloc[:len(V), :len(V)] = V\n",
        "expanded_V.iloc[len(V):, len(V):] = covariance_of_residuals\n",
        "\n",
        "expanded_V = pd.DataFrame(expanded_V)\n",
        "\n",
        "print(expanded_V)"
      ]
    },
    {
      "cell_type": "code",
      "execution_count": null,
      "id": "6ccc7a26",
      "metadata": {
        "id": "6ccc7a26",
        "outputId": "a74950f8-6694-4055-dffe-dca68bbb32a9"
      },
      "outputs": [
        {
          "name": "stdout",
          "output_type": "stream",
          "text": [
            "The standard error of the OLS beta is 217.852362243008\n"
          ]
        }
      ],
      "source": [
        "gradient_with_constants[3], gradient_with_constants[4] = gradient_with_constants[4], gradient_with_constants[3]  # Adjusting the order of gradients\n",
        "\n",
        "scaled_expanded_V_matrix = np.matrix(expanded_V.values) * len(var_df)\n",
        "\n",
        "# Calculate the standard error of OLS beta using the gradient and the scaled variance-covariance matrix\n",
        "SE_beta_OLS = np.sqrt(gradient_with_constants.T @ scaled_expanded_V_matrix @ gradient_with_constants / len(var_df))*100\n",
        "\n",
        "print('The standard error of the OLS beta is', float(SE_beta_OLS))"
      ]
    },
    {
      "cell_type": "code",
      "execution_count": null,
      "id": "bf032575",
      "metadata": {
        "id": "bf032575",
        "outputId": "3734cd67-0537-4b50-9d8c-83cb7fa6186f"
      },
      "outputs": [
        {
          "name": "stdout",
          "output_type": "stream",
          "text": [
            "                                  const_log_excess_ret  const_div_yld  \\\n",
            "const_log_excess_ret                      2.484826e-05  -7.468128e-07   \n",
            "const_div_yld                            -7.468128e-07   2.826934e-08   \n",
            "L1.log_excess_ret_log_excess_ret         -2.057001e-05   6.182303e-07   \n",
            "L1.log_excess_ret_div_yld                 6.182303e-07  -2.340206e-08   \n",
            "L1.div_yld_log_excess_ret                -7.782921e-04   2.339151e-05   \n",
            "L1.div_yld_div_yld                        2.339151e-05  -8.854463e-07   \n",
            "\n",
            "                                  L1.log_excess_ret_log_excess_ret  \\\n",
            "const_log_excess_ret                                 -2.057001e-05   \n",
            "const_div_yld                                         6.182303e-07   \n",
            "L1.log_excess_ret_log_excess_ret                      1.390438e-03   \n",
            "L1.log_excess_ret_div_yld                            -4.178953e-05   \n",
            "L1.div_yld_log_excess_ret                             5.247209e-04   \n",
            "L1.div_yld_div_yld                                   -1.577045e-05   \n",
            "\n",
            "                                  L1.log_excess_ret_div_yld  \\\n",
            "const_log_excess_ret                           6.182303e-07   \n",
            "const_div_yld                                 -2.340206e-08   \n",
            "L1.log_excess_ret_log_excess_ret              -4.178953e-05   \n",
            "L1.log_excess_ret_div_yld                      1.581872e-06   \n",
            "L1.div_yld_log_excess_ret                     -1.577045e-05   \n",
            "L1.div_yld_div_yld                             5.969638e-07   \n",
            "\n",
            "                                  L1.div_yld_log_excess_ret  \\\n",
            "const_log_excess_ret                              -0.000778   \n",
            "const_div_yld                                      0.000023   \n",
            "L1.log_excess_ret_log_excess_ret                   0.000525   \n",
            "L1.log_excess_ret_div_yld                         -0.000016   \n",
            "L1.div_yld_log_excess_ret                          0.027345   \n",
            "L1.div_yld_div_yld                                -0.000822   \n",
            "\n",
            "                                  L1.div_yld_div_yld  \n",
            "const_log_excess_ret                    2.339151e-05  \n",
            "const_div_yld                          -8.854463e-07  \n",
            "L1.log_excess_ret_log_excess_ret       -1.577045e-05  \n",
            "L1.log_excess_ret_div_yld               5.969638e-07  \n",
            "L1.div_yld_log_excess_ret              -8.218642e-04  \n",
            "L1.div_yld_div_yld                      3.111028e-05  \n",
            "                                  const_log_excess_ret  const_div_yld  \\\n",
            "const_log_excess_ret                      2.484826e-05  -7.468128e-07   \n",
            "const_div_yld                            -7.468128e-07   2.826934e-08   \n",
            "L1.log_excess_ret_log_excess_ret         -2.057001e-05   6.182303e-07   \n",
            "L1.log_excess_ret_div_yld                 6.182303e-07  -2.340206e-08   \n",
            "L1.div_yld_log_excess_ret                -7.782921e-04   2.339151e-05   \n",
            "L1.div_yld_div_yld                        2.339151e-05  -8.854463e-07   \n",
            "res_var1                                  0.000000e+00   0.000000e+00   \n",
            "res_cov                                   0.000000e+00   0.000000e+00   \n",
            "res_var2                                  0.000000e+00   0.000000e+00   \n",
            "\n",
            "                                  L1.log_excess_ret_log_excess_ret  \\\n",
            "const_log_excess_ret                                 -2.057001e-05   \n",
            "const_div_yld                                         6.182303e-07   \n",
            "L1.log_excess_ret_log_excess_ret                      1.390438e-03   \n",
            "L1.log_excess_ret_div_yld                            -4.178953e-05   \n",
            "L1.div_yld_log_excess_ret                             5.247209e-04   \n",
            "L1.div_yld_div_yld                                   -1.577045e-05   \n",
            "res_var1                                              0.000000e+00   \n",
            "res_cov                                               0.000000e+00   \n",
            "res_var2                                              0.000000e+00   \n",
            "\n",
            "                                  L1.log_excess_ret_div_yld  \\\n",
            "const_log_excess_ret                           6.182303e-07   \n",
            "const_div_yld                                 -2.340206e-08   \n",
            "L1.log_excess_ret_log_excess_ret              -4.178953e-05   \n",
            "L1.log_excess_ret_div_yld                      1.581872e-06   \n",
            "L1.div_yld_log_excess_ret                     -1.577045e-05   \n",
            "L1.div_yld_div_yld                             5.969638e-07   \n",
            "res_var1                                       0.000000e+00   \n",
            "res_cov                                        0.000000e+00   \n",
            "res_var2                                       0.000000e+00   \n",
            "\n",
            "                                  L1.div_yld_log_excess_ret  \\\n",
            "const_log_excess_ret                              -0.000778   \n",
            "const_div_yld                                      0.000023   \n",
            "L1.log_excess_ret_log_excess_ret                   0.000525   \n",
            "L1.log_excess_ret_div_yld                         -0.000016   \n",
            "L1.div_yld_log_excess_ret                          0.027345   \n",
            "L1.div_yld_div_yld                                -0.000822   \n",
            "res_var1                                           0.000000   \n",
            "res_cov                                            0.000000   \n",
            "res_var2                                           0.000000   \n",
            "\n",
            "                                  L1.div_yld_div_yld      res_var1  \\\n",
            "const_log_excess_ret                    2.339151e-05  0.000000e+00   \n",
            "const_div_yld                          -8.854463e-07  0.000000e+00   \n",
            "L1.log_excess_ret_log_excess_ret       -1.577045e-05  0.000000e+00   \n",
            "L1.log_excess_ret_div_yld               5.969638e-07  0.000000e+00   \n",
            "L1.div_yld_log_excess_ret              -8.218642e-04  0.000000e+00   \n",
            "L1.div_yld_div_yld                      3.111028e-05  0.000000e+00   \n",
            "res_var1                                0.000000e+00  2.532686e-08   \n",
            "res_cov                                 0.000000e+00 -3.289034e-10   \n",
            "res_var2                                0.000000e+00  8.975493e-11   \n",
            "\n",
            "                                       res_cov      res_var2  \n",
            "const_log_excess_ret              0.000000e+00  0.000000e+00  \n",
            "const_div_yld                     0.000000e+00  0.000000e+00  \n",
            "L1.log_excess_ret_log_excess_ret  0.000000e+00  0.000000e+00  \n",
            "L1.log_excess_ret_div_yld         0.000000e+00  0.000000e+00  \n",
            "L1.div_yld_log_excess_ret         0.000000e+00  0.000000e+00  \n",
            "L1.div_yld_div_yld                0.000000e+00  0.000000e+00  \n",
            "res_var1                         -3.289034e-10  8.975493e-11  \n",
            "res_cov                           3.513281e-10 -1.450180e-11  \n",
            "res_var2                         -1.450180e-11  1.900931e-11  \n"
          ]
        }
      ],
      "source": [
        "def simplify_var_cov_matrix(var_model):\n",
        "    var_cov_matrix = var_model.cov_params()\n",
        "\n",
        "    row_labels = ['_'.join(str(idx) for idx in multi_idx) for multi_idx in var_cov_matrix.index.to_flat_index()]\n",
        "    col_labels = ['_'.join(str(col) for col in multi_col) for multi_col in var_cov_matrix.columns.to_flat_index()]\n",
        "    var_cov_matrix.index = row_labels\n",
        "    var_cov_matrix.columns = col_labels\n",
        "\n",
        "    return var_cov_matrix\n",
        "\n",
        "simplified_var_cov_matrix = simplify_var_cov_matrix(optimal_model)\n",
        "print(simplified_var_cov_matrix)\n",
        "\n",
        "n_bootstraps = 10000\n",
        "bootstrap_estimates = []\n",
        "\n",
        "for _ in range(n_bootstraps):\n",
        "    bootstrap_sample = var_df.sample(n=len(var_df), replace=True)\n",
        "    # Fit the VAR model to the bootstrap sample with an assumed lag order of 1\n",
        "    bootstrap_results = VAR(bootstrap_sample).fit(1)\n",
        "    bootstrap_cov_matrix = np.cov(bootstrap_results.resid, rowvar=False)\n",
        "    bootstrap_estimates.append([bootstrap_cov_matrix[0, 0], bootstrap_cov_matrix[0, 1], bootstrap_cov_matrix[1, 1]])\n",
        "\n",
        "# Creating a DataFrame from bootstrap estimates\n",
        "bootstrap_df = pd.DataFrame(bootstrap_estimates, columns=['Var1', 'Cov12', 'Var2'])\n",
        "covariance_of_residuals = np.cov(bootstrap_df.T)\n",
        "\n",
        "expanded_columns = V.columns.tolist() + ['res_var1', 'res_cov', 'res_var2']\n",
        "expanded_rows = V.index.tolist() + ['res_var1', 'res_cov', 'res_var2']\n",
        "expanded_V = pd.DataFrame(np.zeros((9, 9)), columns=expanded_columns, index=expanded_rows)\n",
        "\n",
        "expanded_V.iloc[:len(V), :len(V)] = V\n",
        "expanded_V.iloc[len(V):, len(V):] = covariance_of_residuals\n",
        "\n",
        "expanded_V = pd.DataFrame(expanded_V)\n",
        "\n",
        "print(expanded_V)"
      ]
    },
    {
      "cell_type": "code",
      "execution_count": null,
      "id": "88bd8ea1",
      "metadata": {
        "id": "88bd8ea1",
        "outputId": "237ba5e8-50e6-4129-fcf0-0d51378c5e1c"
      },
      "outputs": [
        {
          "name": "stdout",
          "output_type": "stream",
          "text": [
            "The standard error of the OLS beta is 1.938226364533609\n"
          ]
        }
      ],
      "source": [
        "gradient_with_constants[3], gradient_with_constants[4] = gradient_with_constants[4], gradient_with_constants[3]\n",
        "\n",
        "scaled_expanded_V_matrix = np.matrix(expanded_V.values) * len(var_df)\n",
        "\n",
        "SE_beta_OLS = np.sqrt(gradient_with_constants.T @ scaled_expanded_V_matrix @ gradient_with_constants / len(var_df))*100\n",
        "\n",
        "print('The standard error of the OLS beta is', float(SE_beta_OLS))"
      ]
    },
    {
      "cell_type": "markdown",
      "id": "df395b2b",
      "metadata": {
        "id": "df395b2b"
      },
      "source": [
        "### (4)"
      ]
    },
    {
      "cell_type": "code",
      "execution_count": null,
      "id": "14b1ad96",
      "metadata": {
        "id": "14b1ad96",
        "outputId": "2d7e155e-c071-41f4-9e4e-7aa945a4d0f3"
      },
      "outputs": [
        {
          "name": "stdout",
          "output_type": "stream",
          "text": [
            "                    ret_residual  div_yield_residual\n",
            "ret_residual            1.000000           -0.890832\n",
            "div_yield_residual     -0.890832            1.000000\n"
          ]
        }
      ],
      "source": [
        "X_1 = sm.add_constant(np.ones(len(data)))\n",
        "\n",
        "y_r = data['log_excess_ret']\n",
        "\n",
        "model_1 = sm.OLS(y_r, X_1)\n",
        "results = model_1.fit()\n",
        "ret_residual = sm.OLS(y_r, X_1).fit().resid\n",
        "\n",
        "# Fit an AutoReg model to 'div_yld' with 1 lag and extract residuals\n",
        "div_yield_residuals = AutoReg(data['div_yld'], lags=1).fit().resid\n",
        "\n",
        "residuals_df = pd.DataFrame({'ret_residual': ret_residual, 'div_yield_residual': div_yield_residuals})\n",
        "\n",
        "correlation_matrix = residuals_df.corr()\n",
        "print(correlation_matrix)"
      ]
    },
    {
      "cell_type": "code",
      "execution_count": null,
      "id": "7d846d71",
      "metadata": {
        "id": "7d846d71",
        "outputId": "a14cc884-a0fe-4de2-d153-b821608f3c8e"
      },
      "outputs": [
        {
          "data": {
            "image/png": "[encoded data removed]",
            "text/plain": [
              "<Figure size 640x480 with 1 Axes>"
            ]
          },
          "metadata": {},
          "output_type": "display_data"
        }
      ],
      "source": [
        "var_data_2 = data['div_yld'].to_frame()\n",
        "auto_reg_model = AutoReg(var_data_2, lags=1)\n",
        "fitted_auto_reg_model = auto_reg_model.fit()\n",
        "\n",
        "def bootstrap_t_values(df, n_iterations=1000, original_data=data, ols_results=results, auto_reg_model=fitted_auto_reg_model):\n",
        "    t_values = []\n",
        "    for _ in range(n_iterations):\n",
        "\n",
        "        sampled_pairs = df.sample(n=len(df), replace=True)\n",
        "        resid_ret = sampled_pairs['ret_residual']\n",
        "        resid_div = sampled_pairs['div_yield_residual']\n",
        "\n",
        "        # Reconstruct the return series using residuals\n",
        "        ret_bootstrap = ols_results.params[0] + resid_ret\n",
        "\n",
        "        # Reconstruct the dividend series using autoregression\n",
        "        div_bootstrap = [original_data['div_yld'].iloc[0]]\n",
        "        for i in range(1, len(resid_div)):\n",
        "            div_t1 = auto_reg_model.params[0] + auto_reg_model.params[1] * div_bootstrap[i-1] + resid_div.iloc[i]\n",
        "            div_bootstrap.append(div_t1)\n",
        "\n",
        "        y = [value * 12 for value in ret_bootstrap[1:]]\n",
        "        X = sm.add_constant(div_bootstrap[:-1])\n",
        "\n",
        "        # Fit the regression model on bootstrap samples\n",
        "        model = sm.OLS(y, X).fit()\n",
        "\n",
        "        t_values.append(model.tvalues[1])\n",
        "\n",
        "    return t_values\n",
        "\n",
        "df_adjusted = residuals_df.iloc[1:,]\n",
        "\n",
        "t_value_results = bootstrap_t_values(df_adjusted, 1000, data, results, fitted_auto_reg_model)\n",
        "\n",
        "plt.hist(t_value_results, bins=50, color='skyblue', edgecolor='black')\n",
        "plt.xlabel('t-value')\n",
        "plt.ylabel('Frequency')\n",
        "plt.title('Histogram of Bootstrap t-values')\n",
        "plt.show()"
      ]
    },
    {
      "cell_type": "code",
      "execution_count": null,
      "id": "84434824",
      "metadata": {
        "id": "84434824",
        "outputId": "4f85ef03-4cbd-49a3-e516-e7ea42b7bf21"
      },
      "outputs": [
        {
          "data": {
            "image/png": "[encoded data removed]",
            "text/plain": [
              "<Figure size 640x480 with 1 Axes>"
            ]
          },
          "metadata": {},
          "output_type": "display_data"
        },
        {
          "name": "stdout",
          "output_type": "stream",
          "text": [
            "Proportion of squared t-values > 3.84: 0.098\n"
          ]
        }
      ],
      "source": [
        "t_value_square = [item ** 2 for item in t_value_results]\n",
        "\n",
        "# Plotting the histogram of squared t-values\n",
        "plt.hist(t_value_square, bins=50, color='skyblue', edgecolor='black')\n",
        "plt.xlabel('Squared t-value')\n",
        "plt.ylabel('Frequency')\n",
        "plt.title('Histogram of Squared Bootstrap t-values')\n",
        "plt.show()\n",
        "\n",
        "# Calculate the proportion of squared t-values greater than 3.84\n",
        "proportion_above_critical = sum(i > 3.84 for i in t_value_square) / len(t_value_square)\n",
        "print(\"Proportion of squared t-values > 3.84:\", proportion_above_critical)"
      ]
    },
    {
      "cell_type": "markdown",
      "id": "e332154e",
      "metadata": {
        "id": "e332154e"
      },
      "source": [
        "A well-calibrated test, with respect to its size, suggests that at a 0.05 significance level, the likelihood of committing a Type I error should be close to 5%. Yet, in the current scenario, this likelihood is slightly surpassing the predefined threshold of 0.05."
      ]
    },
    {
      "cell_type": "markdown",
      "id": "36d5e04e",
      "metadata": {
        "id": "36d5e04e"
      },
      "source": [
        "### (5)"
      ]
    },
    {
      "cell_type": "code",
      "execution_count": null,
      "id": "039b3101",
      "metadata": {
        "id": "039b3101",
        "outputId": "ef857015-58bc-4a72-c135-8c5218a01e15"
      },
      "outputs": [
        {
          "data": {
            "image/png": "[encoded data removed]",
            "text/plain": [
              "<Figure size 640x480 with 1 Axes>"
            ]
          },
          "metadata": {},
          "output_type": "display_data"
        }
      ],
      "source": [
        "coefficients = []\n",
        "conf_int_lower = []\n",
        "conf_int_higher = []\n",
        "\n",
        "window_size = 120\n",
        "\n",
        "for start_index in range(len(data) - window_size + 1):\n",
        "    data_window = data.iloc[start_index:start_index + window_size]\n",
        "\n",
        "    # Set up the dependent variable (y) and independent variable (X) for regression\n",
        "    y = 12 * data_window['log_excess_ret'].iloc[:-1]  # Annualize returns\n",
        "    X = sm.add_constant(data_window['div_yld'].iloc[:-1])\n",
        "\n",
        "    # Fit the OLS regression model\n",
        "    rolling_model = sm.OLS(y, X).fit()\n",
        "\n",
        "    # Extract the coefficient for 'div_yld' and its confidence interval\n",
        "    coef = rolling_model.params['div_yld']\n",
        "    ci_lower, ci_higher = rolling_model.conf_int().loc['div_yld']\n",
        "\n",
        "    coefficients.append(coef)\n",
        "    conf_int_lower.append(ci_lower)\n",
        "    conf_int_higher.append(ci_higher)\n",
        "\n",
        "fig, ax = plt.subplots()\n",
        "\n",
        "ax.plot(coefficients, label='Point Estimates', color='blue')\n",
        "ax.fill_between(range(len(coefficients)), conf_int_lower, conf_int_higher, color='skyblue', alpha=0.4, label='Confidence Interval')\n",
        "\n",
        "ax.set_xlabel('Observation Window')\n",
        "ax.set_ylabel('Coefficient Value')\n",
        "ax.set_title('Rolling Regression Point Estimates and Confidence Intervals')\n",
        "ax.legend()\n",
        "\n",
        "plt.tight_layout()\n",
        "plt.show()"
      ]
    },
    {
      "cell_type": "markdown",
      "id": "7d371c8d",
      "metadata": {
        "id": "7d371c8d"
      },
      "source": [
        "The parameter estimates exhibit significant variability, especially in the later segments. This highlights the critical role of choosing specific time periods for analysis, as the relationship between returns and dividends can shift in response to macroeconomic trends and policy adjustments."
      ]
    }
  ],
  "metadata": {
    "kernelspec": {
      "display_name": "Python 3 (ipykernel)",
      "language": "python",
      "name": "python3"
    },
    "language_info": {
      "codemirror_mode": {
        "name": "ipython",
        "version": 3
      },
      "file_extension": ".py",
      "mimetype": "text/x-python",
      "name": "python",
      "nbconvert_exporter": "python",
      "pygments_lexer": "ipython3",
      "version": "3.9.13"
    },
    "colab": {
      "provenance": [],
      "include_colab_link": true
    }
  },
  "nbformat": 4,
  "nbformat_minor": 5
}